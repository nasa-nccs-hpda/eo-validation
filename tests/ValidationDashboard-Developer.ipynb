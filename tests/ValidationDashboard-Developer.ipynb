{
 "cells": [
  {
   "cell_type": "markdown",
   "id": "9f315b6b-73ad-467e-88af-70d09251eacd",
   "metadata": {},
   "source": [
    "# Earth Observation Validation Notebook\n",
    "\n",
    "The following notebook is meant to ease the validation process of raster based semantic segmentation products."
   ]
  },
  {
   "cell_type": "code",
   "execution_count": null,
   "id": "963de97a-d216-4d3b-8433-43d3c2a7a7e3",
   "metadata": {},
   "outputs": [],
   "source": [
    "# Uncomment this cell if you want to install eo-validation from pip\n",
    "# !pip uninstall -y eo-validation"
   ]
  },
  {
   "cell_type": "code",
   "execution_count": null,
   "id": "fb488fcd-ccc0-4045-8c69-75886f80fc42",
   "metadata": {},
   "outputs": [],
   "source": [
    "# Uncomment this cell if you need to download the package to your local environment\n",
    "# !git clone https://github.com/nasa-nccs-hpda/eo-validation ~/eo-validation"
   ]
  },
  {
   "cell_type": "code",
   "execution_count": null,
   "id": "3020b230-dcf3-486a-af7e-4568a7160c10",
   "metadata": {},
   "outputs": [],
   "source": [
    "import os\n",
    "import sys\n",
    "import socket\n",
    "from IPython.display import display\n",
    "from ipyleaflet import basemaps\n",
    "\n",
    "# If you did not install eo-validation via pip, you will need to \n",
    "# set the path to the directory that houses your git repository\n",
    "# sys.path.append(os.path.join(os.path.expanduser('~'), 'eo-validation'))\n",
    "sys.path.append('/home/jovyan/development/eo-validation')\n",
    "\n",
    "from eo_validation.validation_dashboard import ValidationDashboard"
   ]
  },
  {
   "cell_type": "code",
   "execution_count": null,
   "id": "10f1da5e-8255-4bfe-918f-52fe1881ee87",
   "metadata": {},
   "outputs": [],
   "source": [
    "dashboard = ValidationDashboard(\n",
    "    center=[14, -14],\n",
    "    zoom=3,\n",
    "    max_zoom=20,\n",
    "    default_max_zoom=20,\n",
    "    default_zoom=18,\n",
    "    scroll_wheel_zoom=True,\n",
    "    keyboard=True,\n",
    "    basemap=basemaps.Esri.WorldImagery,\n",
    "    height=\"600px\",\n",
    "    data_dir=\"/efs/projects/3sl/data/Tappan\",\n",
    "    mask_dir=\"/efs/projects/3sl/labelsv2\",\n",
    "    output_dir=\"/home/jovyan/eo-validation-output-test\",\n",
    "    default_bands=[\n",
    "                ('Coastal Blue', 1), ('Blue', 2), ('Green', 3), ('Yellow', 4),\n",
    "                ('Red', 5), ('Red Edge', 6), ('NIR1', 7), ('NIR2', 8)\n",
    "    ],\n",
    "    rgb_bands = [7, 3, 2],\n",
    "    rgb_disabled=False,\n",
    "    validation_classes=[\n",
    "                'other', 'trees/shrub', 'cropland', 'other vegetation',\n",
    "                'water', 'build'\n",
    "    ],\n",
    "    mask_classes=['other', 'tree', 'crop', 'burn'],\n",
    "    #points_dir='/home/jovyan/efs/projects/3sl/validation/original_points',\n",
    "    gen_points=True,\n",
    "    n_points=200,\n",
    "    expected_accuracies=[0.90, 0.90, 0.90, 0.90],\n",
    "    expected_standard_error=0.01,\n",
    "    product_name='otcb',\n",
    "    chunks={\"band\": 1, \"x\": 2048, \"y\": 2048}\n",
    ")\n",
    "display(dashboard)"
   ]
  },
  {
   "cell_type": "code",
   "execution_count": null,
   "id": "065ea7ac-dffd-4ca7-a31a-b4cb516c4f0b",
   "metadata": {},
   "outputs": [],
   "source": []
  }
 ],
 "metadata": {
  "kernelspec": {
   "display_name": "Python 3 (ipykernel)",
   "language": "python",
   "name": "python3"
  },
  "language_info": {
   "codemirror_mode": {
    "name": "ipython",
    "version": 3
   },
   "file_extension": ".py",
   "mimetype": "text/x-python",
   "name": "python",
   "nbconvert_exporter": "python",
   "pygments_lexer": "ipython3",
   "version": "3.9.13"
  }
 },
 "nbformat": 4,
 "nbformat_minor": 5
}
