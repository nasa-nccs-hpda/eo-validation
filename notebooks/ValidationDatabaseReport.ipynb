{
 "cells": [
  {
   "cell_type": "markdown",
   "id": "9f315b6b-73ad-467e-88af-70d09251eacd",
   "metadata": {},
   "source": [
    "# Earth Observation Validation Report Notebook\n",
    "\n",
    "The following notebook provides a report on the progress of validations when performed\n",
    "using the Teams option. The second portion of this notebook generates the overall aggregated database."
   ]
  },
  {
   "cell_type": "code",
   "execution_count": null,
   "id": "4c9353bc-4fb2-4b93-b1f5-2523bd87247a",
   "metadata": {},
   "outputs": [],
   "source": [
    "import os\n",
    "import pandas as pd\n",
    "from glob import glob\n",
    "import geopandas as gpd\n",
    "from pathlib import Path\n",
    "from datetime import date\n",
    "from tabulate import tabulate"
   ]
  },
  {
   "cell_type": "markdown",
   "id": "5f890f1e-5375-4b1e-af84-1d8cd29c1b1b",
   "metadata": {},
   "source": [
    "## Validation Report"
   ]
  },
  {
   "cell_type": "code",
   "execution_count": null,
   "id": "ecd35cbe-1f58-400e-b523-db93e23eaf49",
   "metadata": {},
   "outputs": [],
   "source": [
    "# specify the data_dir option used in the ValidationDashboard notebook\n",
    "data_dir = '/efs/projects/3sl/validation'"
   ]
  },
  {
   "cell_type": "code",
   "execution_count": null,
   "id": "b2ea9a44-8504-4cad-9fd4-afbaf6fb8fc8",
   "metadata": {},
   "outputs": [],
   "source": [
    "report_list = []\n",
    "for username in os.listdir(data_dir):\n",
    "    \n",
    "    if username in [\".ipynb_checkpoints\", \"original_points\"]:\n",
    "        continue\n",
    "    \n",
    "    filenames = glob(os.path.join(data_dir, username, 'data', 'Tappan', '*.gpkg'))\n",
    "    \n",
    "    for filename in filenames:\n",
    "        \n",
    "        try:\n",
    "            gdf = gpd.read_file(filename)\n",
    "            report_list.append([gdf.shape[0], gdf['verified'].sum(), Path(filename).stem])\n",
    "        except:\n",
    "            report_list.append([\"broken file\", 0, Path(filename).stem])\n",
    "\n",
    "print (tabulate(report_list, headers=[\"Number of Points\", \"Verified Points\", \"Username-Filename\"]))"
   ]
  },
  {
   "cell_type": "markdown",
   "id": "54add659-a329-4d29-b238-ea66f768c11e",
   "metadata": {},
   "source": [
    "# Validation Database Generation"
   ]
  },
  {
   "cell_type": "code",
   "execution_count": null,
   "id": "782acd67-1ba4-4477-9089-9739f8d2400c",
   "metadata": {},
   "outputs": [],
   "source": [
    "# specify the database_filename option used to name the Validation Database, ends with .gpkg\n",
    "database_filename = f'validation-database-{date.today()}.gpkg'"
   ]
  },
  {
   "cell_type": "code",
   "execution_count": null,
   "id": "4961d929-d929-4a2b-9cbc-8213db16058f",
   "metadata": {},
   "outputs": [],
   "source": [
    "report_list = []\n",
    "database_list = []\n",
    "for username in os.listdir(data_dir):\n",
    "    \n",
    "    if username in [\".ipynb_checkpoints\", \"original_points\"]:\n",
    "        continue\n",
    "    \n",
    "    filenames = glob(os.path.join(data_dir, username, 'data', 'Tappan', '*.gpkg'))\n",
    "    \n",
    "    for filename in filenames:\n",
    "        \n",
    "        try:\n",
    "            gdf = gpd.read_file(filename)\n",
    "            report_list.append([gdf.shape[0], gdf['verified'].sum(), Path(filename).stem])\n",
    "            username, short_filename = (Path(filename).stem).split('-')\n",
    "            gdf['username'] = username\n",
    "            gdf['short_filename'] = short_filename\n",
    "            database_list.append(gdf)\n",
    "        except:\n",
    "            report_list.append([\"broken file\", 0, Path(filename).stem])\n",
    "\n",
    "full_database = pd.concat(database_list)\n",
    "full_database.to_file(database_filename, driver='GPKG', layer='validation') \n",
    "full_database.head()"
   ]
  }
 ],
 "metadata": {
  "kernelspec": {
   "display_name": "Python 3 (ipykernel)",
   "language": "python",
   "name": "python3"
  },
  "language_info": {
   "codemirror_mode": {
    "name": "ipython",
    "version": 3
   },
   "file_extension": ".py",
   "mimetype": "text/x-python",
   "name": "python",
   "nbconvert_exporter": "python",
   "pygments_lexer": "ipython3",
   "version": "3.9.13"
  }
 },
 "nbformat": 4,
 "nbformat_minor": 5
}
