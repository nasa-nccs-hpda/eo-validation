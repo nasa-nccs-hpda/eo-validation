{
 "cells": [
  {
   "cell_type": "markdown",
   "id": "9f315b6b-73ad-467e-88af-70d09251eacd",
   "metadata": {},
   "source": [
    "# Earth Observation Validation Report Notebook\n",
    "\n",
    "The following notebook provides a report on the progress of validations when performed\n",
    "using the Teams option. The second portion of this notebook generates the overall aggregated database."
   ]
  },
  {
   "cell_type": "code",
   "execution_count": null,
   "id": "4c9353bc-4fb2-4b93-b1f5-2523bd87247a",
   "metadata": {},
   "outputs": [],
   "source": [
    "import os\n",
    "import csv\n",
    "import pandas as pd\n",
    "import geopandas as gpd\n",
    "\n",
    "from glob import glob\n",
    "from pathlib import Path\n",
    "from datetime import date\n",
    "from tabulate import tabulate"
   ]
  },
  {
   "cell_type": "markdown",
   "id": "5f890f1e-5375-4b1e-af84-1d8cd29c1b1b",
   "metadata": {},
   "source": [
    "## Validation Report"
   ]
  },
  {
   "cell_type": "code",
   "execution_count": null,
   "id": "ecd35cbe-1f58-400e-b523-db93e23eaf49",
   "metadata": {},
   "outputs": [],
   "source": [
    "# specify the data_dir option used in the ValidationDashboard notebook\n",
    "data_dir = '/home/jovyan/efs/BinPeng_Colombia/validation'"
   ]
  },
  {
   "cell_type": "code",
   "execution_count": null,
   "id": "b2ea9a44-8504-4cad-9fd4-afbaf6fb8fc8",
   "metadata": {},
   "outputs": [],
   "source": [
    "report_list = []\n",
    "fields = [\"Number of Points\", \"Verified Points\", \"Percentage\", \"Seconds Per Point (Mean)\", \"Username-Filename\"]\n",
    "for username in os.listdir(data_dir):\n",
    "    \n",
    "    if username in [\".ipynb_checkpoints\", \"original_points\"]:\n",
    "        continue\n",
    "    \n",
    "    filenames = glob(os.path.join(data_dir, username, '*.gpkg'))\n",
    "\n",
    "    for filename in filenames:\n",
    "        \n",
    "        try:\n",
    "            gdf = gpd.read_file(filename)\n",
    "            report_list.append(\n",
    "                [\n",
    "                    gdf.shape[0], # total points\n",
    "                    gdf['verified'].sum(), # verified points\n",
    "                    round((gdf['verified'].sum() / gdf.shape[0]) * 100, 2), # percentage done\n",
    "                    pd.to_numeric(gdf['seconds_taken'], errors='coerce').mean(), # seconds per point\n",
    "                    username\n",
    "                ])\n",
    "        except:\n",
    "            report_list.append([\"broken file\", 0, Path(filename).stem])\n",
    "\n",
    "print (tabulate(report_list, headers=fields))\n",
    "\n",
    "with open(f'validation-database-report-{date.today()}.csv', 'w') as f:\n",
    "     \n",
    "    write = csv.writer(f)\n",
    "    write.writerow(fields)\n",
    "    write.writerows(report_list)"
   ]
  },
  {
   "cell_type": "markdown",
   "id": "54add659-a329-4d29-b238-ea66f768c11e",
   "metadata": {},
   "source": [
    "# Validation Database Generation"
   ]
  },
  {
   "cell_type": "code",
   "execution_count": null,
   "id": "782acd67-1ba4-4477-9089-9739f8d2400c",
   "metadata": {},
   "outputs": [],
   "source": [
    "# specify the database_filename option used to name the Validation Database, ends with .gpkg\n",
    "database_filename = f'validation-database-{date.today()}.gpkg'"
   ]
  },
  {
   "cell_type": "code",
   "execution_count": null,
   "id": "4961d929-d929-4a2b-9cbc-8213db16058f",
   "metadata": {},
   "outputs": [],
   "source": [
    "report_list = []\n",
    "database_list = []\n",
    "for username in os.listdir(data_dir):\n",
    "    \n",
    "    if username in [\".ipynb_checkpoints\", \"original_points\"]:\n",
    "        continue\n",
    "    \n",
    "    filenames = glob(os.path.join(data_dir, username, '*.gpkg'))\n",
    "    \n",
    "    for filename in filenames:\n",
    "        \n",
    "        try:\n",
    "            gdf = gpd.read_file(filename)\n",
    "\n",
    "            report_list.append(\n",
    "                [\n",
    "                    gdf.shape[0], # total points\n",
    "                    gdf['verified'].sum(), # verified points\n",
    "                    round((gdf['verified'].sum() / gdf.shape[0]) * 100, 2), # percentage done\n",
    "                    pd.to_numeric(gdf['seconds_taken'], errors='coerce').mean(), # seconds per point\n",
    "                    username\n",
    "                ])\n",
    "\n",
    "            gdf['username'] = username\n",
    "            gdf['short_filename'] = Path(filename).stem\n",
    "            database_list.append(gdf)\n",
    "\n",
    "        except:\n",
    "            report_list.append([\"broken file\", 0, Path(filename).stem])\n",
    "\n",
    "print (tabulate(report_list, headers=[\n",
    "    \"Number of Points\", \"Verified Points\", \"Percentage\", \"Seconds Per Point (Mean)\", \"Username-Filename\"]))\n",
    "\n",
    "full_database = pd.concat(database_list)\n",
    "full_database.to_file(database_filename, driver='GPKG', layer='validation') \n",
    "full_database.head()"
   ]
  },
  {
   "cell_type": "code",
   "execution_count": null,
   "id": "badd0b03-160c-403e-b650-6ea0fc1d42c1",
   "metadata": {},
   "outputs": [],
   "source": []
  }
 ],
 "metadata": {
  "kernelspec": {
   "display_name": "Python 3 (ipykernel)",
   "language": "python",
   "name": "python3"
  },
  "language_info": {
   "codemirror_mode": {
    "name": "ipython",
    "version": 3
   },
   "file_extension": ".py",
   "mimetype": "text/x-python",
   "name": "python",
   "nbconvert_exporter": "python",
   "pygments_lexer": "ipython3",
   "version": "3.9.13"
  }
 },
 "nbformat": 4,
 "nbformat_minor": 5
}
