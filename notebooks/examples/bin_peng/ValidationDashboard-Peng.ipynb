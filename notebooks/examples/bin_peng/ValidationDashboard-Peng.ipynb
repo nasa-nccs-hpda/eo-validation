{
 "cells": [
  {
   "cell_type": "markdown",
   "id": "9f315b6b-73ad-467e-88af-70d09251eacd",
   "metadata": {},
   "source": [
    "# Earth Observation Validation Notebook\n",
    "\n",
    "The following notebook is meant to ease the validation process of raster based semantic segmentation products."
   ]
  },
  {
   "cell_type": "code",
   "execution_count": null,
   "id": "963de97a-d216-4d3b-8433-43d3c2a7a7e3",
   "metadata": {},
   "outputs": [],
   "source": [
    "# Uncomment this cell if you want to install eo-validation from pip\n",
    "# !pip install eo-validation"
   ]
  },
  {
   "cell_type": "code",
   "execution_count": null,
   "id": "fb488fcd-ccc0-4045-8c69-75886f80fc42",
   "metadata": {},
   "outputs": [],
   "source": [
    "# Uncomment this cell if you need to download the package to your local environment\n",
    "# !git clone https://github.com/nasa-nccs-hpda/eo-validation ~/eo-validation"
   ]
  },
  {
   "cell_type": "code",
   "execution_count": 1,
   "id": "3020b230-dcf3-486a-af7e-4568a7160c10",
   "metadata": {},
   "outputs": [
    {
     "name": "stdout",
     "output_type": "stream",
     "text": [
      "Downloading WhiteboxTools pre-compiled binary for first time use ...\n",
      "Decompressing WhiteboxTools_linux_amd64.zip ...\n",
      "WhiteboxTools package directory: /srv/conda/envs/notebook/lib/python3.9/site-packages/whitebox\n",
      "Unexpected error: <class 'FileNotFoundError'>\n"
     ]
    }
   ],
   "source": [
    "import os\n",
    "import sys\n",
    "import socket\n",
    "from ipyleaflet import basemaps\n",
    "from IPython.display import display\n",
    "\n",
    "# If you did not install eo-validation via pip, you will need to \n",
    "# set the path to the directory that houses your git repository\n",
    "# sys.path.append(os.path.join(os.path.expanduser('~'), 'eo-validation'))\n",
    "sys.path.append('/efs/jacaraba/eo-validation')\n",
    "\n",
    "from eo_validation.validation_dashboard import ValidationDashboard"
   ]
  },
  {
   "cell_type": "code",
   "execution_count": 3,
   "id": "10f1da5e-8255-4bfe-918f-52fe1881ee87",
   "metadata": {},
   "outputs": [
    {
     "data": {
      "application/vnd.jupyter.widget-view+json": {
       "model_id": "b29cc7284f984091be779db51466a7b8",
       "version_major": 2,
       "version_minor": 0
      },
      "text/plain": [
       "ValidationDashboard(center=[4, -70], controls=(ZoomControl(options=['position', 'zoom_in_text', 'zoom_in_title…"
      ]
     },
     "metadata": {},
     "output_type": "display_data"
    }
   ],
   "source": [
    "dashboard = ValidationDashboard(\n",
    "    default_max_zoom=80,\n",
    "    max_zoom=80,\n",
    "    default_zoom=18,\n",
    "    center=[4, -70],\n",
    "    marker_type='polygon',\n",
    "    validation_classes=[\n",
    "        'Evergreen Forest',\n",
    "        'Deciduous Forest',\n",
    "        'Grassland',\n",
    "        'Shrubland',\n",
    "        'Cropland (herbaceous)',\n",
    "        'Urban',\n",
    "        'Wetland',\n",
    "        'Water'\n",
    "    ],\n",
    "    filter_points_by='Group1',\n",
    "    output_dir='/home/jovyan/efs/BinPeng_Colombia/validation',\n",
    "    validation_points_filename='/home/jovyan/efs/BinPeng_Colombia/original_data/ValidationPolygonColumbia-EO-Validation.gpkg'\n",
    ")\n",
    "display(dashboard)"
   ]
  },
  {
   "cell_type": "code",
   "execution_count": null,
   "id": "8c3af6ac-72ee-4ab9-8095-7cfa9ac8b9e6",
   "metadata": {},
   "outputs": [],
   "source": []
  }
 ],
 "metadata": {
  "kernelspec": {
   "display_name": "Python 3 (ipykernel)",
   "language": "python",
   "name": "python3"
  },
  "language_info": {
   "codemirror_mode": {
    "name": "ipython",
    "version": 3
   },
   "file_extension": ".py",
   "mimetype": "text/x-python",
   "name": "python",
   "nbconvert_exporter": "python",
   "pygments_lexer": "ipython3",
   "version": "3.9.13"
  }
 },
 "nbformat": 4,
 "nbformat_minor": 5
}
