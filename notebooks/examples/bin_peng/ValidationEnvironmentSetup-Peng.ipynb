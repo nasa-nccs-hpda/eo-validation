{
 "cells": [
  {
   "cell_type": "markdown",
   "id": "8f6c74d2-d0a9-4872-b3f2-f02712c1ca47",
   "metadata": {},
   "source": [
    "# Validation Environment Preparation Notebook\n",
    "\n",
    "This notebook serves as a guide to setup the environment needed to run the group validation exercise.\n",
    "Some of the variables are outlined below. Follow these steps to prepare your team for running validation\n",
    "concurrently."
   ]
  },
  {
   "cell_type": "code",
   "execution_count": null,
   "id": "1163ac3c-c1f0-4631-8a1d-8c298bb1c1d6",
   "metadata": {},
   "outputs": [],
   "source": [
    "import os\n",
    "import shutil"
   ]
  },
  {
   "cell_type": "markdown",
   "id": "516fa141-5ef8-491e-a103-8dc7813549f6",
   "metadata": {},
   "source": [
    "## 1. Set Environment Variables\n",
    "\n",
    "Here we will set several environment variables needed for the team to work. The definition\n",
    "of these variables is listed below.\n",
    "\n",
    "- project_name: select a project name to organize all files (e.g. PILastName_UniversityLetters)\n",
    "- observers_usernames: set the usernames of the observers to prepare their working directories\n",
    "- validation_dashboard_path: the final copy of the ValidationDashboard.ipynb notebook you want to share with your team to work from"
   ]
  },
  {
   "cell_type": "code",
   "execution_count": null,
   "id": "4f9bf037-55c0-43d7-a9c2-9478596d395a",
   "metadata": {},
   "outputs": [],
   "source": [
    "project_name = 'BinPeng_Colombia'\n",
    "observers_usernames = [\n",
    "    'my_username1',\n",
    "    'my_username2',\n",
    "]\n",
    "validation_dashboard_path = '/home/jovyan/efs/BinPeng_Colombia/software/eo-validation/notebooks/examples/bin_peng/ValidationDashboard-Peng.ipynb'"
   ]
  },
  {
   "cell_type": "code",
   "execution_count": null,
   "id": "0e5f91f1-2d25-4f09-9ab6-3f7345ae6e1c",
   "metadata": {},
   "outputs": [],
   "source": [
    "working_dir = f'/efs/{project_name}'\n",
    "project_dir = f'/efs/{project_name}'\n",
    "data_dir = os.path.join(project_dir, 'data')\n",
    "labels_dir = os.path.join(project_dir, 'labels')\n",
    "points_dir = os.path.join(project_dir, 'original_points')\n",
    "validation_dir = os.path.join(project_dir, 'validation')"
   ]
  },
  {
   "cell_type": "code",
   "execution_count": null,
   "id": "fb616439-afae-461e-89fd-c6d65d0511e7",
   "metadata": {},
   "outputs": [],
   "source": [
    "print(f\"Data Dir: {data_dir}\") \n",
    "print(f\"Labels Dir: {labels_dir}\")\n",
    "print(f\"Points Dir: {points_dir}\")\n",
    "print(f\"Validation Dir: {validation_dir}\")"
   ]
  },
  {
   "cell_type": "markdown",
   "id": "cb0d011a-a4bf-4697-ae28-ade96fae66d8",
   "metadata": {},
   "source": [
    "## 2. Prepare Working Directory\n",
    "\n",
    "Here we will create the main working directory."
   ]
  },
  {
   "cell_type": "code",
   "execution_count": null,
   "id": "d74eeb3b-caed-4679-b086-9c6eccc0dfcd",
   "metadata": {},
   "outputs": [],
   "source": [
    "!mkdir -p {working_dir}"
   ]
  },
  {
   "cell_type": "markdown",
   "id": "c32624ef-999d-4405-921a-c24741904c9a",
   "metadata": {},
   "source": [
    "## 3. Prepare Project Directory\n",
    "\n",
    "Here we will create the main project directory."
   ]
  },
  {
   "cell_type": "code",
   "execution_count": null,
   "id": "363bea14-84d7-4fd4-bfcf-6ffbde4fd0a0",
   "metadata": {},
   "outputs": [],
   "source": [
    "!mkdir -p {project_dir}"
   ]
  },
  {
   "cell_type": "markdown",
   "id": "45fb7508-7d4b-466f-8509-a62335fd831f",
   "metadata": {},
   "source": [
    "## 4. Prepare Project Data Directories\n",
    "\n",
    "Here we will create temporary directories to store data for the validation notebook exercise."
   ]
  },
  {
   "cell_type": "code",
   "execution_count": null,
   "id": "e5b3f6aa-917d-4c74-8384-70fe3e9f1e9e",
   "metadata": {},
   "outputs": [],
   "source": [
    "!mkdir -p {data_dir} {labels_dir} {points_dir} {validation_dir}"
   ]
  },
  {
   "cell_type": "markdown",
   "id": "321b299a-ba66-44c7-907e-053698e18420",
   "metadata": {},
   "source": [
    "## 5. Copy Dashboard into Users Directories\n",
    "\n",
    "Here we will copy the final working version of the dashboard into each users working directory."
   ]
  },
  {
   "cell_type": "code",
   "execution_count": null,
   "id": "633cddc2-a2c2-4413-aec4-30568f8bf981",
   "metadata": {},
   "outputs": [],
   "source": [
    "for username in observers_usernames:\n",
    "    username_working_dir = os.path.join(working_dir, username)\n",
    "    os.makedirs(username_working_dir, exist_ok=True)\n",
    "    shutil.copy(\n",
    "        validation_dashboard_path,\n",
    "        os.path.join(username_working_dir, os.path.basename(validation_dashboard_path))\n",
    "    )"
   ]
  }
 ],
 "metadata": {
  "kernelspec": {
   "display_name": "Python 3 (ipykernel)",
   "language": "python",
   "name": "python3"
  },
  "language_info": {
   "codemirror_mode": {
    "name": "ipython",
    "version": 3
   },
   "file_extension": ".py",
   "mimetype": "text/x-python",
   "name": "python",
   "nbconvert_exporter": "python",
   "pygments_lexer": "ipython3",
   "version": "3.9.13"
  }
 },
 "nbformat": 4,
 "nbformat_minor": 5
}
